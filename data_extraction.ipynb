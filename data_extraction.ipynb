{
 "cells": [
  {
   "cell_type": "markdown",
   "id": "ec67720a-22e6-461b-a0e5-5551c11af57d",
   "metadata": {},
   "source": [
    "### Data extraction"
   ]
  },
  {
   "cell_type": "code",
   "execution_count": 3,
   "id": "d3f99717-5224-42d1-9ccf-45dfed292983",
   "metadata": {},
   "outputs": [],
   "source": [
    "import pandas as pd\n",
    "import numpy as np\n",
    "import xml.etree.ElementTree as ET\n",
    "\n",
    "\n",
    "def extract_data(files):\n",
    "\n",
    "    result = []\n",
    "\n",
    "    for path in files:\n",
    "        # Abre y parsea el archivo XML\n",
    "        tree = ET.parse(path)\n",
    "        # Obtiene el elemento raíz del archivo XML\n",
    "        root = tree.getroot()\n",
    "        for question in root.findall(\"NLM-QUESTION\"):\n",
    "            \n",
    "            question_id = question.get(\"questionid\") or question.get(\"qid\")\n",
    "            message = question.find(\"MESSAGE\").text #if question.find(\"MESSAGE\") is not None and question.find(\"MESSAGE\").text else \"\"\n",
    "            \n",
    "            for sub_question in question.findall(\"SUB-QUESTIONS/SUB-QUESTION\"):\n",
    "                sub_question_id = sub_question.get(\"subqid\")\n",
    "               \n",
    "                focus = sub_question.find(\"ANNOTATIONS/FOCUS\").text if sub_question.find(\"ANNOTATIONS/FOCUS\") is not None and sub_question.find(\"ANNOTATIONS/FOCUS\").text else ''\n",
    "                type = sub_question.find(\"ANNOTATIONS/TYPE\").text if sub_question.find(\"ANNOTATIONS/TYPE\") is not None and sub_question.find(\"ANNOTATIONS/TYPE\").text else ''\n",
    "                \n",
    "                for answer in sub_question.findall(\"ANSWERS/ANSWER\"):\n",
    "                    answer_id = answer.get(\"answerid\")\n",
    "                    answer = answer.text if answer.text is not None else \"\"\n",
    "                    result.append({\n",
    "                        \"Q_id\": question_id, \"message\": message, \"sub_Q_id\": sub_question_id,\n",
    "                        \"focus\": focus, \"type\": type, \"A_id\": answer_id, \"answer\": answer\n",
    "                    })\n",
    "        \n",
    "    df = pd.DataFrame(result)\n",
    "    df = df.explode(\"answer\")\n",
    "\n",
    "    df = df.dropna(subset = \"message\")\n",
    "\n",
    "    return df"
   ]
  },
  {
   "cell_type": "code",
   "execution_count": 5,
   "id": "1bbb14cf-bd43-449b-82c9-a54685ab33fd",
   "metadata": {},
   "outputs": [],
   "source": [
    "df = extract_data([\"TRAIN DATASETS/TREC-2017-LiveQA-Medical-Train-1.xml\", \"TRAIN DATASETS/TREC-2017-LiveQA-Medical-Train-2.xml\"])"
   ]
  },
  {
   "cell_type": "code",
   "execution_count": 7,
   "id": "ba3460ec-082c-4114-8bb1-b2ef793cc658",
   "metadata": {},
   "outputs": [],
   "source": [
    "df_no_id = df.drop([\"Q_id\", \"sub_Q_id\", \"A_id\"], axis = 1)"
   ]
  },
  {
   "cell_type": "markdown",
   "id": "a7c9ba56-0c28-4608-87df-d66f2d99320e",
   "metadata": {},
   "source": [
    "##### CSV"
   ]
  },
  {
   "cell_type": "code",
   "execution_count": 10,
   "id": "da83d030-cf2b-4b3f-9b39-e44612264b3b",
   "metadata": {},
   "outputs": [],
   "source": [
    "import os\n",
    "\n",
    "# Crear el directorio si no existe\n",
    "if not os.path.exists(\"data\"):\n",
    "    os.makedirs(\"data\")\n",
    "\n",
    "df.to_csv(\"data/data.csv\", index=False)\n",
    "df_no_id.to_csv(\"data/data_no_id.csv\", index = False)"
   ]
  },
  {
   "cell_type": "markdown",
   "id": "1200eaae-b99f-4106-bc4c-be14cbf1cdb8",
   "metadata": {},
   "source": [
    "##### JSON"
   ]
  },
  {
   "cell_type": "code",
   "execution_count": 17,
   "id": "00b8a78e-828b-4a37-958f-91e5070536d8",
   "metadata": {},
   "outputs": [],
   "source": [
    "import csv\n",
    "import json\n",
    "\n",
    "def csv_to_json(csv_file, json_file):\n",
    "    data = []\n",
    "    with open(csv_file, 'r', encoding='utf-8') as csvfile:\n",
    "        reader = csv.DictReader(csvfile)\n",
    "        for row in reader:\n",
    "            data.append(row)\n",
    "\n",
    "    with open(json_file, 'w') as jsonfile:\n",
    "        json.dump(data, jsonfile, indent=4)\n",
    "\n",
    "csv_to_json(\"data/data.csv\", \"data/data.json\")\n",
    "csv_to_json(\"data/data_no_id.csv\", \"data/data_no_id.json\")"
   ]
  },
  {
   "cell_type": "code",
   "execution_count": null,
   "id": "21cc2c9f-dd66-482d-bffb-17dba0b3efeb",
   "metadata": {},
   "outputs": [],
   "source": []
  }
 ],
 "metadata": {
  "kernelspec": {
   "display_name": "Python 3 (ipykernel)",
   "language": "python",
   "name": "python3"
  },
  "language_info": {
   "codemirror_mode": {
    "name": "ipython",
    "version": 3
   },
   "file_extension": ".py",
   "mimetype": "text/x-python",
   "name": "python",
   "nbconvert_exporter": "python",
   "pygments_lexer": "ipython3",
   "version": "3.12.4"
  }
 },
 "nbformat": 4,
 "nbformat_minor": 5
}
