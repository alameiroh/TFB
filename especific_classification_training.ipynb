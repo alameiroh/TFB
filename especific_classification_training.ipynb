{
 "cells": [
  {
   "cell_type": "code",
   "execution_count": 83,
   "id": "ae54041d-324e-477b-a412-76e951cd8404",
   "metadata": {},
   "outputs": [],
   "source": [
    "import pandas as pd\n",
    "from imblearn.over_sampling import SMOTE\n",
    "from sklearn.model_selection import train_test_split\n",
    "import numpy as np\n",
    "from sklearn.metrics import accuracy_score, precision_recall_fscore_support  # Importar las métricas necesarias\n",
    "from sklearn.preprocessing import LabelEncoder\n",
    "from sklearn.ensemble import RandomForestClassifier\n",
    "from sklearn.metrics import classification_report, accuracy_score, precision_score, recall_score, f1_score\n",
    "import mlflow\n",
    "import mlflow.sklearn\n",
    "from data_cleaning import clean_text, clean_df, preprocess_text, preprocess_df, insert_type_cols, delete_words, delete_words_df"
   ]
  },
  {
   "cell_type": "code",
   "execution_count": 67,
   "id": "82fe6ffd-1a04-4c91-9900-db6766c81274",
   "metadata": {},
   "outputs": [],
   "source": [
    "from bert_embeddings import get_bert_embeddings"
   ]
  },
  {
   "cell_type": "code",
   "execution_count": 69,
   "id": "206bdc87-9793-4634-95c2-ecaf81ac8c52",
   "metadata": {},
   "outputs": [],
   "source": [
    "df = pd.read_csv(\"data/data_no_id.csv\", header=0)\n",
    "\n",
    "df_clean = clean_df(df)\n",
    "#df_prep = preprocess_df(df_clean)\n",
    "df_prep = delete_words_df(df_clean)\n",
    "df_complete = insert_type_cols(df_prep)"
   ]
  },
  {
   "cell_type": "code",
   "execution_count": 71,
   "id": "ac4f9947-5ffc-4bbe-8221-cef6bc581487",
   "metadata": {},
   "outputs": [],
   "source": [
    "df_especific = df_complete[df_complete.type_general == \"other\"]"
   ]
  },
  {
   "cell_type": "markdown",
   "id": "eb6848fa-01f5-4b49-8dce-9fc462b23724",
   "metadata": {},
   "source": [
    "### Clasificación"
   ]
  },
  {
   "cell_type": "code",
   "execution_count": 77,
   "id": "6e95ba35-8729-490a-a3de-8467b49366a3",
   "metadata": {},
   "outputs": [
    {
     "name": "stdout",
     "output_type": "stream",
     "text": [
      "Counter({'cause': 34, 'other': 27, 'diagnosis': 24, 'prognosis': 20, 'symptom': 16, 'organization': 16, 'indication': 15, 'susceptibility': 12, 'association': 8})\n"
     ]
    }
   ],
   "source": [
    "X = np.vstack(df_especific.message.apply(get_bert_embeddings))\n",
    "y = df_especific['type_especific']\n",
    "\n",
    "# Dividir los datos en conjuntos de entrenamiento y prueba\n",
    "X_train, X_test, y_train, y_test = train_test_split(X, y, test_size=0.15, stratify = y, random_state=42)\n",
    "\n",
    "from collections import Counter\n",
    "print(Counter(y_train))"
   ]
  },
  {
   "cell_type": "code",
   "execution_count": 81,
   "id": "8a6964b9-4fa0-4236-9a91-f23cd9550f2e",
   "metadata": {},
   "outputs": [],
   "source": [
    "smote = SMOTE(random_state=42, k_neighbors=3)\n",
    "X_train_smote, y_train_smote = smote.fit_resample(X_train, y_train)"
   ]
  },
  {
   "cell_type": "code",
   "execution_count": 63,
   "id": "b014aa4d-3525-4965-8db1-18d968fe25e9",
   "metadata": {},
   "outputs": [
    {
     "name": "stderr",
     "output_type": "stream",
     "text": [
      "C:\\Users\\anton\\anaconda3\\Lib\\site-packages\\sklearn\\metrics\\_classification.py:1509: UndefinedMetricWarning: Precision is ill-defined and being set to 0.0 in labels with no predicted samples. Use `zero_division` parameter to control this behavior.\n",
      "  _warn_prf(average, modifier, f\"{metric.capitalize()} is\", len(result))\n",
      "2024/07/29 19:34:12 WARNING mlflow.models.model: Input example should be provided to infer model signature if the model signature is not provided when logging the model.\n",
      "2024/07/29 19:34:12 INFO mlflow.tracking._tracking_service.client: 🏃 View run tasteful-bear-429 at: http://localhost:5000/#/experiments/997033071663245475/runs/70336544c98f43598b9dcc417ad256ab.\n",
      "2024/07/29 19:34:12 INFO mlflow.tracking._tracking_service.client: 🧪 View experiment at: http://localhost:5000/#/experiments/997033071663245475.\n"
     ]
    },
    {
     "name": "stdout",
     "output_type": "stream",
     "text": [
      "                precision    recall  f1-score   support\n",
      "\n",
      "   association       0.00      0.00      0.00         1\n",
      "         cause       0.25      0.17      0.20         6\n",
      "     diagnosis       0.60      0.75      0.67         4\n",
      "    indication       1.00      0.33      0.50         3\n",
      "  organization       0.60      1.00      0.75         3\n",
      "         other       0.25      0.20      0.22         5\n",
      "     prognosis       0.33      0.25      0.29         4\n",
      "susceptibility       0.00      0.00      0.00         2\n",
      "       symptom       0.29      0.67      0.40         3\n",
      "\n",
      "      accuracy                           0.39        31\n",
      "     macro avg       0.37      0.37      0.34        31\n",
      "  weighted avg       0.39      0.39      0.36        31\n",
      "\n",
      "Exactitud: 0.3870967741935484\n"
     ]
    },
    {
     "name": "stderr",
     "output_type": "stream",
     "text": [
      "C:\\Users\\anton\\anaconda3\\Lib\\site-packages\\sklearn\\metrics\\_classification.py:1509: UndefinedMetricWarning: Precision is ill-defined and being set to 0.0 in labels with no predicted samples. Use `zero_division` parameter to control this behavior.\n",
      "  _warn_prf(average, modifier, f\"{metric.capitalize()} is\", len(result))\n",
      "C:\\Users\\anton\\anaconda3\\Lib\\site-packages\\sklearn\\metrics\\_classification.py:1509: UndefinedMetricWarning: Precision is ill-defined and being set to 0.0 in labels with no predicted samples. Use `zero_division` parameter to control this behavior.\n",
      "  _warn_prf(average, modifier, f\"{metric.capitalize()} is\", len(result))\n",
      "C:\\Users\\anton\\anaconda3\\Lib\\site-packages\\sklearn\\metrics\\_classification.py:1509: UndefinedMetricWarning: Precision is ill-defined and being set to 0.0 in labels with no predicted samples. Use `zero_division` parameter to control this behavior.\n",
      "  _warn_prf(average, modifier, f\"{metric.capitalize()} is\", len(result))\n"
     ]
    }
   ],
   "source": [
    "# Inicia una nueva ejecución en MLflow\n",
    "# Configuración de MLflow\n",
    "mlflow.set_tracking_uri('http://localhost:5000')\n",
    "mlflow.set_experiment('especific_classification')\n",
    "with mlflow.start_run():\n",
    "    # Parámetros del modelo\n",
    "    n_estimators = 100\n",
    "    class_weight = 'balanced'\n",
    "    \n",
    "    # Registrar parámetros\n",
    "    mlflow.log_param('n_estimators', n_estimators)\n",
    "    mlflow.log_param('class_weight', class_weight)\n",
    "    \n",
    "    # Entrena el modelo\n",
    "    especific_classifier = RandomForestClassifier(n_estimators=n_estimators, class_weight=class_weight, random_state=42)#class_weight=class_weight, random_state=100)\n",
    "    especific_classifier.fit(X_train_smote, y_train_smote)\n",
    "    y_pred = especific_classifier.predict(X_test)\n",
    "\n",
    "    # Calcular métricas\n",
    "    accuracy = accuracy_score(y_test, y_pred)\n",
    "    precision = precision_score(y_test, y_pred, average='macro')\n",
    "    recall = recall_score(y_test, y_pred, average='macro')\n",
    "    f1 = f1_score(y_test, y_pred, average='macro')\n",
    "\n",
    "    # Registrar métricas\n",
    "    mlflow.log_metric('accuracy', accuracy)\n",
    "    mlflow.log_metric('precision', precision)\n",
    "    mlflow.log_metric('recall', recall)\n",
    "    mlflow.log_metric('f1_score', f1)\n",
    "\n",
    "    # Registrar el modelo\n",
    "    mlflow.sklearn.log_model(especific_classifier, 'random_forest_model')\n",
    "\n",
    "\n",
    "# Evaluar el rendimiento\n",
    "print(classification_report(y_test, y_pred))\n",
    "print(f\"Exactitud: {accuracy_score(y_test, y_pred)}\")\n",
    "\n",
    "\n",
    "accuracy = accuracy_score(y_test, y_pred)\n"
   ]
  },
  {
   "cell_type": "code",
   "execution_count": 85,
   "id": "dcb153c5-9b43-47ed-aad7-9d4896610c7d",
   "metadata": {},
   "outputs": [
    {
     "data": {
      "text/plain": [
       "['random_forest_especific_classifier.pkl']"
      ]
     },
     "execution_count": 85,
     "metadata": {},
     "output_type": "execute_result"
    }
   ],
   "source": [
    "import joblib\n",
    "\n",
    "# Guardar el modelo en un archivo\n",
    "joblib.dump(especific_classifier, 'random_forest_especific_classifier.pkl')\n"
   ]
  },
  {
   "cell_type": "code",
   "execution_count": 33,
   "id": "6427f003-4c20-462e-83d7-0ae593a6d66c",
   "metadata": {},
   "outputs": [
    {
     "name": "stdout",
     "output_type": "stream",
     "text": [
      "Matriz de confusión:\n",
      "[[0 1 0 0 0 0 0 0 0]\n",
      " [0 3 2 0 0 0 0 0 1]\n",
      " [0 1 2 0 0 0 1 0 0]\n",
      " [0 1 0 0 0 1 1 0 0]\n",
      " [0 1 0 0 2 0 0 0 0]\n",
      " [0 2 1 0 0 1 0 0 1]\n",
      " [0 0 0 0 0 0 3 0 1]\n",
      " [0 0 0 1 0 0 0 0 1]\n",
      " [0 1 0 0 0 0 0 0 2]]\n"
     ]
    },
    {
     "data": {
      "text/plain": [
       "Text(0.5, 1.0, 'Matriz de Confusión')"
      ]
     },
     "execution_count": 33,
     "metadata": {},
     "output_type": "execute_result"
    },
    {
     "data": {
      "image/png": "[encoded data removed]",
      "text/plain": [
       "<Figure size 600x400 with 1 Axes>"
      ]
     },
     "metadata": {},
     "output_type": "display_data"
    }
   ],
   "source": [
    "from sklearn.metrics import confusion_matrix\n",
    "\n",
    "# Calcular la matriz de confusión\n",
    "confusion = confusion_matrix(y_test, y_pred)\n",
    "\n",
    "# Imprimir la matriz\n",
    "print(\"Matriz de confusión:\")\n",
    "print(confusion)\n",
    "\n",
    "import seaborn as sns\n",
    "import matplotlib.pyplot as plt\n",
    "\n",
    "# Crear el heatmap\n",
    "plt.figure(figsize=(6, 4))\n",
    "sns.heatmap(confusion, annot=True, fmt=\"d\", cmap=\"Blues\", cbar=False)\n",
    "plt.xlabel(\"Predicciones\")\n",
    "plt.ylabel(\"Valores reales\")\n",
    "plt.title(\"Matriz de Confusión\")"
   ]
  },
  {
   "cell_type": "code",
   "execution_count": null,
   "id": "c3038967-4964-44eb-9d4f-65fac3945d6a",
   "metadata": {},
   "outputs": [],
   "source": []
  }
 ],
 "metadata": {
  "kernelspec": {
   "display_name": "Python 3 (ipykernel)",
   "language": "python",
   "name": "python3"
  },
  "language_info": {
   "codemirror_mode": {
    "name": "ipython",
    "version": 3
   },
   "file_extension": ".py",
   "mimetype": "text/x-python",
   "name": "python",
   "nbconvert_exporter": "python",
   "pygments_lexer": "ipython3",
   "version": "3.12.4"
  }
 },
 "nbformat": 4,
 "nbformat_minor": 5
}
