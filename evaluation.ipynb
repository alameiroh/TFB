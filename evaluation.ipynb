{
 "cells": [
  {
   "cell_type": "markdown",
   "id": "df70275c-9da5-4f1d-9034-120089506bfc",
   "metadata": {},
   "source": [
    "### Evaluación del modelo con los datos de test"
   ]
  },
  {
   "cell_type": "code",
   "execution_count": 2,
   "id": "475bc165-e07e-41fb-a48c-1d315b5479af",
   "metadata": {},
   "outputs": [],
   "source": [
    "import pandas as pd\n",
    "import numpy as np\n",
    "import xml.etree.ElementTree as ET\n"
   ]
  },
  {
   "cell_type": "code",
   "execution_count": 3,
   "id": "21500388-727d-4eb0-ba24-f70d058beb41",
   "metadata": {},
   "outputs": [],
   "source": [
    "def extract_test_data(RUTE_DATASETS_TEST) -> None:\n",
    "    '''\n",
    "    Esta función transforma los datos del formato XML a un formato JSON que es más fácil de trabajar.\n",
    "    '''\n",
    "    # Parsear el archivo XML\n",
    "    tree = ET.parse(RUTE_DATASETS_TEST)\n",
    "    root = tree.getroot()\n",
    "\n",
    "    # Listas para almacenar los datos\n",
    "    data = []\n",
    "\n",
    "    # Iterar sobre los nodos NLM-QUESTION\n",
    "    for question in root.findall('.//NLM-QUESTION'):\n",
    "        question_id = question.attrib.get('qid') or question.attrib.get('id')  # Obtener el ID de la pregunta\n",
    "        subject = question.find('Original-Question/SUBJECT').text if question.find('Original-Question/SUBJECT') is not None else None  # Obtener el tema de la pregunta si existe\n",
    "        message = question.find('Original-Question/MESSAGE').text if question.find('Original-Question/MESSAGE') is not None else None  # Obtener el mensaje de la pregunta si existe\n",
    "       \n",
    "        for focus in question.findall('.//ANNOTATIONS/FOCUS'):\n",
    "            focus_text = focus.text\n",
    "        \n",
    "        for type_info in question.findall('.//ANNOTATIONS/TYPE'):\n",
    "            type_info= type_info.text.upper()\n",
    "\n",
    "        for ref_answer in question.findall('.//RefAnswer') or question.findall('.//ReferenceAnswer'):\n",
    "\n",
    "            aid = ref_answer.attrib.get('aid'),\n",
    "            answer = ref_answer.find('ANSWER').text\n",
    "            \n",
    "\n",
    "            data.append({\n",
    "                'question_id': question_id,\n",
    "                'subject': subject,\n",
    "                'message': message,\n",
    "                'focus': focus_text,\n",
    "                'type': type_info,\n",
    "                'aid': aid,\n",
    "                'answer': answer\n",
    "            })\n",
    "        df = pd.DataFrame(data)\n",
    "\n",
    "        df = df.dropna(subset = \"message\")\n",
    "\n",
    "    return df"
   ]
  },
  {
   "cell_type": "code",
   "execution_count": 4,
   "id": "13e4aa74-c6d2-4153-832c-213955b20d03",
   "metadata": {},
   "outputs": [],
   "source": [
    "df_test = extract_test_data(\"TEST DATASETS/TREC-2017-LiveQA-Medical-Test.xml\")"
   ]
  },
  {
   "cell_type": "code",
   "execution_count": 5,
   "id": "772cd2ce-79bc-4829-b4f8-ec2d03259c9a",
   "metadata": {},
   "outputs": [
    {
     "data": {
      "text/html": [
       "<div>\n",
       "<style scoped>\n",
       "    .dataframe tbody tr th:only-of-type {\n",
       "        vertical-align: middle;\n",
       "    }\n",
       "\n",
       "    .dataframe tbody tr th {\n",
       "        vertical-align: top;\n",
       "    }\n",
       "\n",
       "    .dataframe thead th {\n",
       "        text-align: right;\n",
       "    }\n",
       "</style>\n",
       "<table border=\"1\" class=\"dataframe\">\n",
       "  <thead>\n",
       "    <tr style=\"text-align: right;\">\n",
       "      <th></th>\n",
       "      <th>question_id</th>\n",
       "      <th>subject</th>\n",
       "      <th>message</th>\n",
       "      <th>focus</th>\n",
       "      <th>type</th>\n",
       "      <th>aid</th>\n",
       "      <th>answer</th>\n",
       "    </tr>\n",
       "  </thead>\n",
       "  <tbody>\n",
       "    <tr>\n",
       "      <th>0</th>\n",
       "      <td>TQ1</td>\n",
       "      <td>Noonan syndrome</td>\n",
       "      <td>What are the references with noonan syndrome a...</td>\n",
       "      <td>polycystic renal disease</td>\n",
       "      <td>EFFECT</td>\n",
       "      <td>(TQ1A1,)</td>\n",
       "      <td>Noonan's syndrome is an eponymic designation ...</td>\n",
       "    </tr>\n",
       "    <tr>\n",
       "      <th>1</th>\n",
       "      <td>TQ1</td>\n",
       "      <td>Noonan syndrome</td>\n",
       "      <td>What are the references with noonan syndrome a...</td>\n",
       "      <td>polycystic renal disease</td>\n",
       "      <td>EFFECT</td>\n",
       "      <td>(TQ1A2,)</td>\n",
       "      <td>10% of patients with Noonan syndrome have rena...</td>\n",
       "    </tr>\n",
       "    <tr>\n",
       "      <th>2</th>\n",
       "      <td>TQ1</td>\n",
       "      <td>Noonan syndrome</td>\n",
       "      <td>What are the references with noonan syndrome a...</td>\n",
       "      <td>polycystic renal disease</td>\n",
       "      <td>EFFECT</td>\n",
       "      <td>(TQ1A3,)</td>\n",
       "      <td>Genitourinary. Renal abnormalities, generally ...</td>\n",
       "    </tr>\n",
       "    <tr>\n",
       "      <th>3</th>\n",
       "      <td>TQ2</td>\n",
       "      <td>Gluten information</td>\n",
       "      <td>Re:NDC# 0115-0672-50 Zolmitriptan tabkets 5mg....</td>\n",
       "      <td>Zolmitriptan</td>\n",
       "      <td>INGREDIENT</td>\n",
       "      <td>(TQ2A1,)</td>\n",
       "      <td>Zolmitriptan tablets are available as 2.5 mg (...</td>\n",
       "    </tr>\n",
       "    <tr>\n",
       "      <th>4</th>\n",
       "      <td>TQ3</td>\n",
       "      <td>amphetamine salts 20 mg</td>\n",
       "      <td>are they gluten free\\t</td>\n",
       "      <td>amphetamine salts</td>\n",
       "      <td>INGREDIENT</td>\n",
       "      <td>(TQ3A1,)</td>\n",
       "      <td>\\n\\t\\t\\t\\t\\tActive Ingredients\\n\\t\\t\\t\\t\\tAmph...</td>\n",
       "    </tr>\n",
       "    <tr>\n",
       "      <th>...</th>\n",
       "      <td>...</td>\n",
       "      <td>...</td>\n",
       "      <td>...</td>\n",
       "      <td>...</td>\n",
       "      <td>...</td>\n",
       "      <td>...</td>\n",
       "      <td>...</td>\n",
       "    </tr>\n",
       "    <tr>\n",
       "      <th>162</th>\n",
       "      <td>TQ100</td>\n",
       "      <td>General health</td>\n",
       "      <td>how does effextor cause ED and what is the mi...</td>\n",
       "      <td>effextor</td>\n",
       "      <td>SIDE_EFFECT</td>\n",
       "      <td>(TQ100A2,)</td>\n",
       "      <td>Antidepressants most likely to cause sexual si...</td>\n",
       "    </tr>\n",
       "    <tr>\n",
       "      <th>163</th>\n",
       "      <td>TQ101</td>\n",
       "      <td>NSAIDS as a potential cause of ED</td>\n",
       "      <td>How long has this non prescription drug been i...</td>\n",
       "      <td>NSAIDS</td>\n",
       "      <td>SIDE_EFFECT</td>\n",
       "      <td>(TQ101A1,)</td>\n",
       "      <td>Non-aspirin NSAID use was associated with an ...</td>\n",
       "    </tr>\n",
       "    <tr>\n",
       "      <th>164</th>\n",
       "      <td>TQ102</td>\n",
       "      <td>General health</td>\n",
       "      <td>i want to know more about aeortic stenosis</td>\n",
       "      <td>aeortic stenosis</td>\n",
       "      <td>TREATMENT</td>\n",
       "      <td>(TQ102A1,)</td>\n",
       "      <td>The aorta is the main artery that carries blo...</td>\n",
       "    </tr>\n",
       "    <tr>\n",
       "      <th>165</th>\n",
       "      <td>TQ103</td>\n",
       "      <td>None</td>\n",
       "      <td>What can cause white cells ti uprate</td>\n",
       "      <td>white cells uprate</td>\n",
       "      <td>CAUSE</td>\n",
       "      <td>(TQ103A1,)</td>\n",
       "      <td>A high white blood cell count usually indicat...</td>\n",
       "    </tr>\n",
       "    <tr>\n",
       "      <th>166</th>\n",
       "      <td>TQ104</td>\n",
       "      <td>Glimepiride Storage &amp; Alloweable Excursion Data</td>\n",
       "      <td>Can you please provide Glimepiride storage &amp; a...</td>\n",
       "      <td>Glimepiride</td>\n",
       "      <td>STORAGE_DISPOSAL</td>\n",
       "      <td>(TQ104A1,)</td>\n",
       "      <td>1. Keep this medication in the container it c...</td>\n",
       "    </tr>\n",
       "  </tbody>\n",
       "</table>\n",
       "<p>167 rows × 7 columns</p>\n",
       "</div>"
      ],
      "text/plain": [
       "    question_id                                          subject  \\\n",
       "0           TQ1                                  Noonan syndrome   \n",
       "1           TQ1                                  Noonan syndrome   \n",
       "2           TQ1                                  Noonan syndrome   \n",
       "3           TQ2                               Gluten information   \n",
       "4           TQ3                          amphetamine salts 20 mg   \n",
       "..          ...                                              ...   \n",
       "162       TQ100                                   General health   \n",
       "163       TQ101                NSAIDS as a potential cause of ED   \n",
       "164       TQ102                                   General health   \n",
       "165       TQ103                                             None   \n",
       "166       TQ104  Glimepiride Storage & Alloweable Excursion Data   \n",
       "\n",
       "                                               message  \\\n",
       "0    What are the references with noonan syndrome a...   \n",
       "1    What are the references with noonan syndrome a...   \n",
       "2    What are the references with noonan syndrome a...   \n",
       "3    Re:NDC# 0115-0672-50 Zolmitriptan tabkets 5mg....   \n",
       "4                               are they gluten free\\t   \n",
       "..                                                 ...   \n",
       "162   how does effextor cause ED and what is the mi...   \n",
       "163  How long has this non prescription drug been i...   \n",
       "164         i want to know more about aeortic stenosis   \n",
       "165               What can cause white cells ti uprate   \n",
       "166  Can you please provide Glimepiride storage & a...   \n",
       "\n",
       "                        focus              type         aid  \\\n",
       "0    polycystic renal disease            EFFECT    (TQ1A1,)   \n",
       "1    polycystic renal disease            EFFECT    (TQ1A2,)   \n",
       "2    polycystic renal disease            EFFECT    (TQ1A3,)   \n",
       "3                Zolmitriptan        INGREDIENT    (TQ2A1,)   \n",
       "4           amphetamine salts        INGREDIENT    (TQ3A1,)   \n",
       "..                        ...               ...         ...   \n",
       "162                  effextor       SIDE_EFFECT  (TQ100A2,)   \n",
       "163                    NSAIDS       SIDE_EFFECT  (TQ101A1,)   \n",
       "164          aeortic stenosis         TREATMENT  (TQ102A1,)   \n",
       "165        white cells uprate             CAUSE  (TQ103A1,)   \n",
       "166               Glimepiride  STORAGE_DISPOSAL  (TQ104A1,)   \n",
       "\n",
       "                                                answer  \n",
       "0     Noonan's syndrome is an eponymic designation ...  \n",
       "1    10% of patients with Noonan syndrome have rena...  \n",
       "2    Genitourinary. Renal abnormalities, generally ...  \n",
       "3    Zolmitriptan tablets are available as 2.5 mg (...  \n",
       "4    \\n\\t\\t\\t\\t\\tActive Ingredients\\n\\t\\t\\t\\t\\tAmph...  \n",
       "..                                                 ...  \n",
       "162  Antidepressants most likely to cause sexual si...  \n",
       "163   Non-aspirin NSAID use was associated with an ...  \n",
       "164   The aorta is the main artery that carries blo...  \n",
       "165   A high white blood cell count usually indicat...  \n",
       "166   1. Keep this medication in the container it c...  \n",
       "\n",
       "[167 rows x 7 columns]"
      ]
     },
     "execution_count": 5,
     "metadata": {},
     "output_type": "execute_result"
    }
   ],
   "source": [
    "df_test"
   ]
  },
  {
   "cell_type": "markdown",
   "id": "8a11d196-7cfc-4265-99f9-79b6e8a0d003",
   "metadata": {},
   "source": [
    "### Limpieza de datos"
   ]
  },
  {
   "cell_type": "code",
   "execution_count": 7,
   "id": "a1261fc3-a1dd-4982-a35a-42e9e133c72d",
   "metadata": {},
   "outputs": [
    {
     "name": "stderr",
     "output_type": "stream",
     "text": [
      "[nltk_data] Downloading package stopwords to\n",
      "[nltk_data]     C:\\Users\\anton\\AppData\\Roaming\\nltk_data...\n",
      "[nltk_data]   Package stopwords is already up-to-date!\n",
      "[nltk_data] Downloading package wordnet to\n",
      "[nltk_data]     C:\\Users\\anton\\AppData\\Roaming\\nltk_data...\n",
      "[nltk_data]   Package wordnet is already up-to-date!\n",
      "[nltk_data] Downloading package punkt to\n",
      "[nltk_data]     C:\\Users\\anton\\AppData\\Roaming\\nltk_data...\n",
      "[nltk_data]   Package punkt is already up-to-date!\n"
     ]
    }
   ],
   "source": [
    "from data_cleaning import clean_text, clean_df, insert_type_cols, preprocess_text, preprocess_df, delete_words, delete_words_df"
   ]
  },
  {
   "cell_type": "code",
   "execution_count": 8,
   "id": "1adfef2a-89af-4b94-84fc-e1e20136ffa1",
   "metadata": {},
   "outputs": [],
   "source": [
    "df_test_clean = clean_df(df_test)"
   ]
  },
  {
   "cell_type": "code",
   "execution_count": 9,
   "id": "0779daa8-1101-4fe9-a391-441955ffe9ba",
   "metadata": {},
   "outputs": [
    {
     "data": {
      "text/plain": [
       "'Genitourinary. Renal abnormalities, generally mild, are present in 11% of individuals with NS. Dilatation of the renal pelvis is most common. Duplex collecting systems, minor rotational anomalies, distal ureteric stenosis, renal hypoplasia, unilateral renal agenesis, unilateral renal\\n\\t\\t\\t\\t\\tectopia, and bilateral cysts with scarring are reported less commonly.'"
      ]
     },
     "execution_count": 9,
     "metadata": {},
     "output_type": "execute_result"
    }
   ],
   "source": [
    "df_test_clean.answer.iloc[2]"
   ]
  },
  {
   "cell_type": "code",
   "execution_count": 10,
   "id": "60d8db69-ae49-4d8f-80da-ffd78b3a4505",
   "metadata": {},
   "outputs": [
    {
     "data": {
      "text/plain": [
       "array(['effect', 'ingredient', 'prevention', 'contraindication', 'cause',\n",
       "       'treatment', 'information', 'symptom', 'diagnosis',\n",
       "       'personorganization', 'tapering', 'usage', 'complication',\n",
       "       'interaction', 'susceptibility', 'alternative', 'indication',\n",
       "       'storagedisposal', 'sideeffect', 'lifestylediet', 'comparison',\n",
       "       'prognosis', 'dosage'], dtype=object)"
      ]
     },
     "execution_count": 10,
     "metadata": {},
     "output_type": "execute_result"
    }
   ],
   "source": [
    "df_test_clean.type.unique()"
   ]
  },
  {
   "cell_type": "code",
   "execution_count": 11,
   "id": "cffab2e3-b62e-45a9-b07c-b2ed029ea302",
   "metadata": {},
   "outputs": [
    {
     "data": {
      "text/plain": [
       "type\n",
       "treatment               296\n",
       "information             133\n",
       "cause                    40\n",
       "diagnosis                27\n",
       "prognosis                24\n",
       "symptom                  19\n",
       "organization             17\n",
       "susceptibility           14\n",
       "association               9\n",
       "inheritance               9\n",
       "complication              8\n",
       "side effects              6\n",
       "prevention                5\n",
       "indication                5\n",
       "usage                     4\n",
       "contraindication          3\n",
       "storage and disposal      2\n",
       "tapering                  2\n",
       "interaction               2\n",
       "dosage                    2\n",
       "resources                 2\n",
       "ingredient                1\n",
       "genetic changes           1\n",
       "diagnoseme                1\n",
       "Name: count, dtype: int64"
      ]
     },
     "execution_count": 11,
     "metadata": {},
     "output_type": "execute_result"
    }
   ],
   "source": [
    "df_train = clean_df(pd.read_csv(\"data/data.csv\", header=0))\n",
    "df_train.type.value_counts()"
   ]
  },
  {
   "cell_type": "code",
   "execution_count": 12,
   "id": "74a78086-f4d8-4d2e-9a72-d4391dd5f849",
   "metadata": {},
   "outputs": [],
   "source": [
    "test_map = {\n",
    "    'effect': 'information',\n",
    "    'ingredient': 'ingredient',\n",
    "    'prevention': 'prevention',\n",
    "    'contraindication': 'contraindication',\n",
    "    'cause': 'cause',\n",
    "    'treatment': 'treatment',\n",
    "    'information': 'information',\n",
    "    'symptom': 'symptom',\n",
    "    'diagnosis': 'diagnosis',\n",
    "    'personorganization': 'organization',\n",
    "    'tapering': 'tapering',\n",
    "    'usage': 'usage',\n",
    "    'complication': 'complication',\n",
    "    'interaction': 'interaction',\n",
    "    'susceptibility': 'susceptibility',\n",
    "    'alternative': 'treatment',\n",
    "    'indication': 'indication',\n",
    "    'storagedisposal': 'storage and disposal',\n",
    "    'sideeffect': 'side effects',\n",
    "    'lifestylediet': 'prevention',\n",
    "    'comparison': 'information',\n",
    "    'prognosis': 'prognosis',\n",
    "    'dosage': 'dosage'}"
   ]
  },
  {
   "cell_type": "code",
   "execution_count": 13,
   "id": "c787de7d-3b4c-4811-8d8a-ae56d46d9462",
   "metadata": {},
   "outputs": [],
   "source": [
    "df_test_clean.type = df_test_clean.type.map(test_map)"
   ]
  },
  {
   "cell_type": "code",
   "execution_count": 14,
   "id": "c4bdfeb1-c0df-4441-9336-868a6fc9ea3c",
   "metadata": {},
   "outputs": [
    {
     "data": {
      "text/html": [
       "<div>\n",
       "<style scoped>\n",
       "    .dataframe tbody tr th:only-of-type {\n",
       "        vertical-align: middle;\n",
       "    }\n",
       "\n",
       "    .dataframe tbody tr th {\n",
       "        vertical-align: top;\n",
       "    }\n",
       "\n",
       "    .dataframe thead th {\n",
       "        text-align: right;\n",
       "    }\n",
       "</style>\n",
       "<table border=\"1\" class=\"dataframe\">\n",
       "  <thead>\n",
       "    <tr style=\"text-align: right;\">\n",
       "      <th></th>\n",
       "      <th>question_id</th>\n",
       "      <th>subject</th>\n",
       "      <th>message</th>\n",
       "      <th>focus</th>\n",
       "      <th>type</th>\n",
       "      <th>aid</th>\n",
       "      <th>answer</th>\n",
       "    </tr>\n",
       "  </thead>\n",
       "  <tbody>\n",
       "    <tr>\n",
       "      <th>0</th>\n",
       "      <td>TQ1</td>\n",
       "      <td>Noonan syndrome</td>\n",
       "      <td>what are the references with noonan syndrome a...</td>\n",
       "      <td>polycystic renal disease</td>\n",
       "      <td>information</td>\n",
       "      <td>(TQ1A1,)</td>\n",
       "      <td>Noonan's syndrome is an eponymic designation ...</td>\n",
       "    </tr>\n",
       "    <tr>\n",
       "      <th>1</th>\n",
       "      <td>TQ1</td>\n",
       "      <td>Noonan syndrome</td>\n",
       "      <td>what are the references with noonan syndrome a...</td>\n",
       "      <td>polycystic renal disease</td>\n",
       "      <td>information</td>\n",
       "      <td>(TQ1A2,)</td>\n",
       "      <td>10% of patients with Noonan syndrome have rena...</td>\n",
       "    </tr>\n",
       "    <tr>\n",
       "      <th>2</th>\n",
       "      <td>TQ1</td>\n",
       "      <td>Noonan syndrome</td>\n",
       "      <td>what are the references with noonan syndrome a...</td>\n",
       "      <td>polycystic renal disease</td>\n",
       "      <td>information</td>\n",
       "      <td>(TQ1A3,)</td>\n",
       "      <td>Genitourinary. Renal abnormalities, generally ...</td>\n",
       "    </tr>\n",
       "    <tr>\n",
       "      <th>3</th>\n",
       "      <td>TQ2</td>\n",
       "      <td>Gluten information</td>\n",
       "      <td>rendc zolmitriptan tabkets mg i have celiac di...</td>\n",
       "      <td>zolmitriptan</td>\n",
       "      <td>ingredient</td>\n",
       "      <td>(TQ2A1,)</td>\n",
       "      <td>Zolmitriptan tablets are available as 2.5 mg (...</td>\n",
       "    </tr>\n",
       "    <tr>\n",
       "      <th>4</th>\n",
       "      <td>TQ3</td>\n",
       "      <td>amphetamine salts 20 mg</td>\n",
       "      <td>are they gluten free\\t</td>\n",
       "      <td>amphetamine salts</td>\n",
       "      <td>ingredient</td>\n",
       "      <td>(TQ3A1,)</td>\n",
       "      <td>\\n\\t\\t\\t\\t\\tActive Ingredients\\n\\t\\t\\t\\t\\tAmph...</td>\n",
       "    </tr>\n",
       "    <tr>\n",
       "      <th>...</th>\n",
       "      <td>...</td>\n",
       "      <td>...</td>\n",
       "      <td>...</td>\n",
       "      <td>...</td>\n",
       "      <td>...</td>\n",
       "      <td>...</td>\n",
       "      <td>...</td>\n",
       "    </tr>\n",
       "    <tr>\n",
       "      <th>162</th>\n",
       "      <td>TQ100</td>\n",
       "      <td>General health</td>\n",
       "      <td>how does effextor cause ed and what is the mi...</td>\n",
       "      <td>effextor</td>\n",
       "      <td>side effects</td>\n",
       "      <td>(TQ100A2,)</td>\n",
       "      <td>Antidepressants most likely to cause sexual si...</td>\n",
       "    </tr>\n",
       "    <tr>\n",
       "      <th>163</th>\n",
       "      <td>TQ101</td>\n",
       "      <td>NSAIDS as a potential cause of ED</td>\n",
       "      <td>how long has this non prescription drug been i...</td>\n",
       "      <td>nsaids</td>\n",
       "      <td>side effects</td>\n",
       "      <td>(TQ101A1,)</td>\n",
       "      <td>Non-aspirin NSAID use was associated with an ...</td>\n",
       "    </tr>\n",
       "    <tr>\n",
       "      <th>164</th>\n",
       "      <td>TQ102</td>\n",
       "      <td>General health</td>\n",
       "      <td>i want to know more about aeortic stenosis</td>\n",
       "      <td>aeortic stenosis</td>\n",
       "      <td>treatment</td>\n",
       "      <td>(TQ102A1,)</td>\n",
       "      <td>The aorta is the main artery that carries blo...</td>\n",
       "    </tr>\n",
       "    <tr>\n",
       "      <th>165</th>\n",
       "      <td>TQ103</td>\n",
       "      <td>None</td>\n",
       "      <td>what can cause white cells ti uprate</td>\n",
       "      <td>white cells uprate</td>\n",
       "      <td>cause</td>\n",
       "      <td>(TQ103A1,)</td>\n",
       "      <td>A high white blood cell count usually indicat...</td>\n",
       "    </tr>\n",
       "    <tr>\n",
       "      <th>166</th>\n",
       "      <td>TQ104</td>\n",
       "      <td>Glimepiride Storage &amp; Alloweable Excursion Data</td>\n",
       "      <td>can you please provide glimepiride storage all...</td>\n",
       "      <td>glimepiride</td>\n",
       "      <td>storage and disposal</td>\n",
       "      <td>(TQ104A1,)</td>\n",
       "      <td>1. Keep this medication in the container it c...</td>\n",
       "    </tr>\n",
       "  </tbody>\n",
       "</table>\n",
       "<p>167 rows × 7 columns</p>\n",
       "</div>"
      ],
      "text/plain": [
       "    question_id                                          subject  \\\n",
       "0           TQ1                                  Noonan syndrome   \n",
       "1           TQ1                                  Noonan syndrome   \n",
       "2           TQ1                                  Noonan syndrome   \n",
       "3           TQ2                               Gluten information   \n",
       "4           TQ3                          amphetamine salts 20 mg   \n",
       "..          ...                                              ...   \n",
       "162       TQ100                                   General health   \n",
       "163       TQ101                NSAIDS as a potential cause of ED   \n",
       "164       TQ102                                   General health   \n",
       "165       TQ103                                             None   \n",
       "166       TQ104  Glimepiride Storage & Alloweable Excursion Data   \n",
       "\n",
       "                                               message  \\\n",
       "0    what are the references with noonan syndrome a...   \n",
       "1    what are the references with noonan syndrome a...   \n",
       "2    what are the references with noonan syndrome a...   \n",
       "3    rendc zolmitriptan tabkets mg i have celiac di...   \n",
       "4                               are they gluten free\\t   \n",
       "..                                                 ...   \n",
       "162   how does effextor cause ed and what is the mi...   \n",
       "163  how long has this non prescription drug been i...   \n",
       "164         i want to know more about aeortic stenosis   \n",
       "165               what can cause white cells ti uprate   \n",
       "166  can you please provide glimepiride storage all...   \n",
       "\n",
       "                        focus                  type         aid  \\\n",
       "0    polycystic renal disease           information    (TQ1A1,)   \n",
       "1    polycystic renal disease           information    (TQ1A2,)   \n",
       "2    polycystic renal disease           information    (TQ1A3,)   \n",
       "3                zolmitriptan            ingredient    (TQ2A1,)   \n",
       "4           amphetamine salts            ingredient    (TQ3A1,)   \n",
       "..                        ...                   ...         ...   \n",
       "162                  effextor          side effects  (TQ100A2,)   \n",
       "163                    nsaids          side effects  (TQ101A1,)   \n",
       "164          aeortic stenosis             treatment  (TQ102A1,)   \n",
       "165        white cells uprate                 cause  (TQ103A1,)   \n",
       "166               glimepiride  storage and disposal  (TQ104A1,)   \n",
       "\n",
       "                                                answer  \n",
       "0     Noonan's syndrome is an eponymic designation ...  \n",
       "1    10% of patients with Noonan syndrome have rena...  \n",
       "2    Genitourinary. Renal abnormalities, generally ...  \n",
       "3    Zolmitriptan tablets are available as 2.5 mg (...  \n",
       "4    \\n\\t\\t\\t\\t\\tActive Ingredients\\n\\t\\t\\t\\t\\tAmph...  \n",
       "..                                                 ...  \n",
       "162  Antidepressants most likely to cause sexual si...  \n",
       "163   Non-aspirin NSAID use was associated with an ...  \n",
       "164   The aorta is the main artery that carries blo...  \n",
       "165   A high white blood cell count usually indicat...  \n",
       "166   1. Keep this medication in the container it c...  \n",
       "\n",
       "[167 rows x 7 columns]"
      ]
     },
     "execution_count": 14,
     "metadata": {},
     "output_type": "execute_result"
    }
   ],
   "source": [
    "df_test_clean.dropna(subset = \"type\")"
   ]
  },
  {
   "cell_type": "code",
   "execution_count": 15,
   "id": "e8c4c63d-9881-4f26-b0c1-a0efc7b842cf",
   "metadata": {},
   "outputs": [
    {
     "data": {
      "text/plain": [
       "type\n",
       "information             29\n",
       "treatment               24\n",
       "cause                   14\n",
       "susceptibility          14\n",
       "diagnosis                9\n",
       "usage                    8\n",
       "prevention               8\n",
       "complication             8\n",
       "side effects             7\n",
       "interaction              7\n",
       "tapering                 7\n",
       "symptom                  6\n",
       "ingredient               5\n",
       "organization             5\n",
       "storage and disposal     4\n",
       "contraindication         4\n",
       "prognosis                3\n",
       "dosage                   3\n",
       "indication               2\n",
       "Name: count, dtype: int64"
      ]
     },
     "execution_count": 15,
     "metadata": {},
     "output_type": "execute_result"
    }
   ],
   "source": [
    "df_test_clean.type.value_counts()"
   ]
  },
  {
   "cell_type": "code",
   "execution_count": 16,
   "id": "59ddaee8-32c7-419e-bf21-a4ce9da405af",
   "metadata": {},
   "outputs": [],
   "source": [
    "df_test_complete = insert_type_cols(df_test_clean.dropna(subset = \"type\"))"
   ]
  },
  {
   "cell_type": "code",
   "execution_count": null,
   "id": "209f9ef2-95e8-4669-b289-4fbb7ce187ac",
   "metadata": {},
   "outputs": [],
   "source": []
  },
  {
   "cell_type": "markdown",
   "id": "13b28bef-9957-4a54-ba45-5302e866ebde",
   "metadata": {},
   "source": [
    "### Evaluación clasificador general"
   ]
  },
  {
   "cell_type": "code",
   "execution_count": 18,
   "id": "c954afa9-cd7e-4fa1-8e8d-526af9bd40e5",
   "metadata": {},
   "outputs": [],
   "source": [
    "from sklearn.preprocessing import LabelEncoder\n",
    "df_complete = pd.read_csv(\"data/data_complete.csv\", header=0)\n",
    "\n",
    "from transformers import DistilBertTokenizer, DistilBertForSequenceClassification\n",
    "import torch\n",
    "\n",
    "general_classifier_path = './model_weights'  \n",
    "general_classifier = DistilBertForSequenceClassification.from_pretrained(general_classifier_path)\n",
    "tokenizer = DistilBertTokenizer.from_pretrained('distilbert-base-uncased')\n"
   ]
  },
  {
   "cell_type": "code",
   "execution_count": 19,
   "id": "225ff86d-43dd-40d7-9ba4-c61bcfa3cd79",
   "metadata": {},
   "outputs": [],
   "source": [
    "focus_list = list(df_complete.focus.unique())\n",
    "focus_list = [word for sentence in focus_list for word in sentence.split()]\n",
    "\n",
    "included_words = [\"syndrome\", \"deformity\", \"body\", \"disease\", \"mouth\", \n",
    "             \"nose\", \"ear\", \"congenital\", \"gender\", \"teen\", \"poison\", \"mouth\",\n",
    "              \"help\", \"to\", \"me\", \"leg\", \"pain\", \"abdominal\", \"a\", \"size\", \"of\",\n",
    "              'bb', 'in','my','right','forearm', \"havent\", 'cannot','eat','losing',\n",
    "              'weight','hard','time','getting','to','sleep','not','being','able','to',\n",
    "              'breath','binge','drinker','have','trouble','walking','using','morphine',\n",
    "              'fire','burn','gives','stain','odd','alcohol','and','opiate','withdrawal',\n",
    "              'penis','did','not','grow','binocular','vision','hands','hurt','throat','heart',\n",
    "              'condition', 'prostate', \"lung\", \"chicken\", \"vaginal\", \"night\", \"nerve\", \"disorder\"\n",
    "             ] + list(df_complete.type.unique())\n",
    "\n",
    "focus_list = [word for word in focus_list if word not in included_words]"
   ]
  },
  {
   "cell_type": "code",
   "execution_count": 20,
   "id": "3ddaaebe-6838-4781-8913-9a6872c52f88",
   "metadata": {},
   "outputs": [],
   "source": [
    "predictions = []\n",
    "for new_message in df_test_complete.drop_duplicates(subset=\"message\").message:\n",
    "\n",
    "    \n",
    "    new_message = clean_text(new_message)\n",
    "    new_message = preprocess_text(new_message)\n",
    "    new_message = delete_words(new_message, focus_list)\n",
    "    \n",
    "    label_encoder = LabelEncoder()\n",
    "    label_encoder.fit_transform(df_complete['type_general'])\n",
    "    \n",
    "    # Tokenizar el mensaje\n",
    "    inputs = tokenizer(new_message, return_tensors='pt', padding=True, truncation=True)\n",
    "\n",
    "    # Obtener la predicción\n",
    "    with torch.no_grad():\n",
    "        logits = general_classifier(**inputs).logits\n",
    "        predicted_class = logits.argmax().item()\n",
    "    \n",
    "    # Decodificar la clase predicha\n",
    "    \n",
    "    predicted_label = label_encoder.inverse_transform([predicted_class])[0]\n",
    "\n",
    "    predictions.append(predicted_label)"
   ]
  },
  {
   "cell_type": "code",
   "execution_count": 21,
   "id": "5fecd250-482d-4f2e-9d12-afb6c9a90f5a",
   "metadata": {},
   "outputs": [
    {
     "name": "stdout",
     "output_type": "stream",
     "text": [
      "              precision    recall  f1-score   support\n",
      "\n",
      " information       0.00      0.00      0.00        16\n",
      "       other       0.82      0.58      0.68        71\n",
      "   treatment       0.28      0.88      0.43        17\n",
      "\n",
      "    accuracy                           0.54       104\n",
      "   macro avg       0.37      0.49      0.37       104\n",
      "weighted avg       0.61      0.54      0.53       104\n",
      "\n",
      "Exactitud: 0.5384615384615384\n"
     ]
    }
   ],
   "source": [
    "from sklearn.metrics import classification_report, accuracy_score, precision_score, recall_score, f1_score\n",
    "\n",
    "print(classification_report(list(df_test_complete.drop_duplicates(subset=\"message\").type_general), predictions))\n",
    "print(f\"Exactitud: {accuracy_score(list(df_test_complete.drop_duplicates(subset=\"message\").type_general), predictions)}\")"
   ]
  },
  {
   "cell_type": "code",
   "execution_count": 22,
   "id": "5afa51b1-f834-4184-9495-e96f59df3e84",
   "metadata": {},
   "outputs": [
    {
     "name": "stdout",
     "output_type": "stream",
     "text": [
      "Matriz de confusión:\n",
      "[[ 0  7  9]\n",
      " [ 1 41 29]\n",
      " [ 0  2 15]]\n"
     ]
    },
    {
     "data": {
      "text/plain": [
       "Text(0.5, 1.0, 'Matriz de Confusión')"
      ]
     },
     "execution_count": 22,
     "metadata": {},
     "output_type": "execute_result"
    },
    {
     "data": {
      "image/png": "[encoded data removed]",
      "text/plain": [
       "<Figure size 600x400 with 1 Axes>"
      ]
     },
     "metadata": {},
     "output_type": "display_data"
    }
   ],
   "source": [
    "from sklearn.metrics import confusion_matrix\n",
    "\n",
    "# Calcular la matriz de confusión\n",
    "confusion = confusion_matrix(list(df_test_complete.drop_duplicates(subset=\"message\").type_general), predictions)\n",
    "\n",
    "# Imprimir la matriz\n",
    "print(\"Matriz de confusión:\")\n",
    "print(confusion)\n",
    "\n",
    "import seaborn as sns\n",
    "import matplotlib.pyplot as plt\n",
    "\n",
    "# Matriz de confusión (confusion) calculada\n",
    "\n",
    "# Crear el heatmap\n",
    "plt.figure(figsize=(6, 4))\n",
    "axs = sns.heatmap(confusion, annot=True, fmt=\"d\", cmap=\"Blues\", cbar=False)\n",
    "axs.set_xticklabels(['Information', 'Other', 'Treatment'])\n",
    "axs.set_yticklabels(['Information', 'Other', 'Treatment'])\n",
    "plt.xlabel(\"Predicciones\")\n",
    "plt.ylabel(\"Valores reales\")\n",
    "plt.title(\"Matriz de Confusión\")"
   ]
  },
  {
   "cell_type": "markdown",
   "id": "4a92dcbe-cfb7-478a-a9eb-4a2b33bffd61",
   "metadata": {},
   "source": [
    "### Evaluación Clasificador especifico"
   ]
  },
  {
   "cell_type": "code",
   "execution_count": 24,
   "id": "f4e94c90-e1d8-4d90-b733-03e705e145f0",
   "metadata": {},
   "outputs": [],
   "source": [
    "from bert_embeddings import get_bert_embeddings"
   ]
  },
  {
   "cell_type": "code",
   "execution_count": 26,
   "id": "57348645-b44f-4fad-95de-8591ad4aa927",
   "metadata": {},
   "outputs": [],
   "source": [
    "import joblib\n",
    "df_test_other = df_test_complete[df_test_complete.type_general == 'other']\n",
    "especific_classifier = joblib.load('random_forest_especific_classifier.pkl')\n",
    "\n",
    "especific_predictions = []\n",
    "for new_message in df_test_other.drop_duplicates(subset=\"message\").message:\n",
    "    \n",
    "    new_message = delete_words(new_message, focus_list) #El clasificador especifico se entrenó aplicando delete_words() a los mensajes\n",
    "    new_embedd = get_bert_embeddings(new_message)\n",
    "    \n",
    "    pred = especific_classifier.predict([new_embedd])[0]\n",
    "    especific_predictions.append(pred)\n",
    "    "
   ]
  },
  {
   "cell_type": "code",
   "execution_count": 27,
   "id": "c7a38d86-5553-4790-830a-de0aac82bc3a",
   "metadata": {},
   "outputs": [
    {
     "name": "stdout",
     "output_type": "stream",
     "text": [
      "                precision    recall  f1-score   support\n",
      "\n",
      "   association       0.00      0.00      0.00         0\n",
      "         cause       0.31      0.50      0.38         8\n",
      "     diagnosis       0.40      0.40      0.40         5\n",
      "    indication       0.60      0.45      0.51        20\n",
      "  organization       0.60      0.60      0.60         5\n",
      "         other       0.27      0.20      0.23        20\n",
      "     prognosis       0.00      0.00      0.00         2\n",
      "susceptibility       0.50      0.25      0.33         8\n",
      "       symptom       0.40      0.67      0.50         3\n",
      "\n",
      "      accuracy                           0.37        71\n",
      "     macro avg       0.34      0.34      0.33        71\n",
      "  weighted avg       0.42      0.37      0.38        71\n",
      "\n",
      "Exactitud: 0.36619718309859156\n"
     ]
    },
    {
     "name": "stderr",
     "output_type": "stream",
     "text": [
      "C:\\Users\\anton\\anaconda3\\Lib\\site-packages\\sklearn\\metrics\\_classification.py:1509: UndefinedMetricWarning: Recall is ill-defined and being set to 0.0 in labels with no true samples. Use `zero_division` parameter to control this behavior.\n",
      "  _warn_prf(average, modifier, f\"{metric.capitalize()} is\", len(result))\n",
      "C:\\Users\\anton\\anaconda3\\Lib\\site-packages\\sklearn\\metrics\\_classification.py:1509: UndefinedMetricWarning: Recall is ill-defined and being set to 0.0 in labels with no true samples. Use `zero_division` parameter to control this behavior.\n",
      "  _warn_prf(average, modifier, f\"{metric.capitalize()} is\", len(result))\n",
      "C:\\Users\\anton\\anaconda3\\Lib\\site-packages\\sklearn\\metrics\\_classification.py:1509: UndefinedMetricWarning: Recall is ill-defined and being set to 0.0 in labels with no true samples. Use `zero_division` parameter to control this behavior.\n",
      "  _warn_prf(average, modifier, f\"{metric.capitalize()} is\", len(result))\n"
     ]
    }
   ],
   "source": [
    "from sklearn.metrics import classification_report, accuracy_score, precision_score, recall_score, f1_score\n",
    "\n",
    "print(classification_report(list(df_test_other.drop_duplicates(subset=\"message\").type_especific), especific_predictions))\n",
    "print(f\"Exactitud: {accuracy_score(list(df_test_other.drop_duplicates(subset=\"message\").type_especific), especific_predictions)}\")"
   ]
  },
  {
   "cell_type": "code",
   "execution_count": 68,
   "id": "a92e4add-b724-4931-b353-82bba8028f13",
   "metadata": {},
   "outputs": [
    {
     "name": "stdout",
     "output_type": "stream",
     "text": [
      "Matriz de confusión:\n",
      "[[0 0 0 0 0 0 0 0 0]\n",
      " [1 4 1 0 0 1 0 1 0]\n",
      " [0 0 2 1 0 1 0 1 0]\n",
      " [1 3 1 9 1 4 0 0 1]\n",
      " [0 1 0 0 3 0 1 0 0]\n",
      " [1 4 1 5 1 4 3 0 1]\n",
      " [0 1 0 0 0 1 0 0 0]\n",
      " [0 0 0 0 0 3 2 2 1]\n",
      " [0 0 0 0 0 1 0 0 2]]\n"
     ]
    },
    {
     "data": {
      "text/plain": [
       "Text(0.5, 1.0, 'Matriz de Confusión')"
      ]
     },
     "execution_count": 68,
     "metadata": {},
     "output_type": "execute_result"
    },
    {
     "data": {
      "image/png": "[encoded data removed]",
      "text/plain": [
       "<Figure size 600x400 with 1 Axes>"
      ]
     },
     "metadata": {},
     "output_type": "display_data"
    }
   ],
   "source": [
    "from sklearn.metrics import confusion_matrix\n",
    "\n",
    "# Calcular la matriz de confusión\n",
    "confusion = confusion_matrix(list(df_test_other.drop_duplicates(subset=\"message\").type_especific), especific_predictions)\n",
    "\n",
    "# Imprimir la matriz\n",
    "print(\"Matriz de confusión:\")\n",
    "print(confusion)\n",
    "\n",
    "import seaborn as sns\n",
    "import matplotlib.pyplot as plt\n",
    "\n",
    "# Matriz de confusión (confusion) calculada\n",
    "\n",
    "# Crear el heatmap\n",
    "plt.figure(figsize=(6, 4))\n",
    "axs = sns.heatmap(confusion, annot=True, fmt=\"d\", cmap=\"Blues\", cbar=False)\n",
    "axs.set_xticklabels(['association', 'cause', 'diagnosis', 'indication', 'organization', 'other', 'prognosis', 'susceptibility', 'symptom'])\n",
    "axs.set_yticklabels(['association', 'cause', 'diagnosis', 'indication', 'organization', 'other', 'prognosis', 'susceptibility', 'symptom'])\n",
    "plt.xlabel(\"Predicciones\")\n",
    "plt.ylabel(\"Valores reales\")\n",
    "plt.title(\"Matriz de Confusión\")"
   ]
  },
  {
   "cell_type": "markdown",
   "id": "be652e4b-c5e9-4357-8fc9-ed485723bae3",
   "metadata": {},
   "source": [
    "### Evaluación clasificador completo"
   ]
  },
  {
   "cell_type": "code",
   "execution_count": 30,
   "id": "7767c15e-cec7-4473-9c19-3923c15febcf",
   "metadata": {},
   "outputs": [],
   "source": [
    "from classifier import classifier"
   ]
  },
  {
   "cell_type": "code",
   "execution_count": 31,
   "id": "702e7386-5431-44d6-b671-bf40e06d544a",
   "metadata": {},
   "outputs": [],
   "source": [
    "especific_classifier = joblib.load('random_forest_especific_classifier.pkl')\n",
    "# Cargar el modelo preentrenado\n",
    "general_classifier_path = './model_weights'  # Ruta donde guardaste los pesos del modelo\n",
    "general_classifier = DistilBertForSequenceClassification.from_pretrained(general_classifier_path)\n",
    "\n",
    "# Cargar el tokenizador\n",
    "tokenizer = DistilBertTokenizer.from_pretrained('distilbert-base-uncased')\n"
   ]
  },
  {
   "cell_type": "code",
   "execution_count": 32,
   "id": "bf4c0d1d-5f12-4fb6-98d1-c9043e16eb22",
   "metadata": {},
   "outputs": [],
   "source": [
    "complete_prediction = []\n",
    "for new_message in df_test_complete.drop_duplicates(subset=\"message\").message:\n",
    "\n",
    "    complete_prediction.append(classifier(new_message, general_classifier, tokenizer , especific_classifier, df_complete))\n",
    "    "
   ]
  },
  {
   "cell_type": "code",
   "execution_count": 66,
   "id": "1eb15081-18f2-4aa6-873b-95564eeddf61",
   "metadata": {},
   "outputs": [
    {
     "name": "stdout",
     "output_type": "stream",
     "text": [
      "                precision    recall  f1-score   support\n",
      "\n",
      "   association       0.00      0.00      0.00         0\n",
      "         cause       0.29      0.50      0.36         8\n",
      "     diagnosis       0.40      0.40      0.40         5\n",
      "    indication       0.55      0.30      0.39        20\n",
      "   information       0.44      0.25      0.32        16\n",
      "  organization       0.33      0.20      0.25         5\n",
      "         other       0.24      0.20      0.22        20\n",
      "     prognosis       0.00      0.00      0.00         2\n",
      "susceptibility       0.40      0.25      0.31         8\n",
      "       symptom       0.33      0.33      0.33         3\n",
      "     treatment       0.33      0.59      0.43        17\n",
      "\n",
      "      accuracy                           0.33       104\n",
      "     macro avg       0.30      0.27      0.27       104\n",
      "  weighted avg       0.37      0.33      0.33       104\n",
      "\n",
      "Exactitud: 0.3269230769230769\n"
     ]
    },
    {
     "name": "stderr",
     "output_type": "stream",
     "text": [
      "C:\\Users\\anton\\anaconda3\\Lib\\site-packages\\sklearn\\metrics\\_classification.py:1509: UndefinedMetricWarning: Recall is ill-defined and being set to 0.0 in labels with no true samples. Use `zero_division` parameter to control this behavior.\n",
      "  _warn_prf(average, modifier, f\"{metric.capitalize()} is\", len(result))\n",
      "C:\\Users\\anton\\anaconda3\\Lib\\site-packages\\sklearn\\metrics\\_classification.py:1509: UndefinedMetricWarning: Recall is ill-defined and being set to 0.0 in labels with no true samples. Use `zero_division` parameter to control this behavior.\n",
      "  _warn_prf(average, modifier, f\"{metric.capitalize()} is\", len(result))\n",
      "C:\\Users\\anton\\anaconda3\\Lib\\site-packages\\sklearn\\metrics\\_classification.py:1509: UndefinedMetricWarning: Recall is ill-defined and being set to 0.0 in labels with no true samples. Use `zero_division` parameter to control this behavior.\n",
      "  _warn_prf(average, modifier, f\"{metric.capitalize()} is\", len(result))\n"
     ]
    }
   ],
   "source": [
    "from sklearn.metrics import classification_report, accuracy_score, precision_score, recall_score, f1_score\n",
    "\n",
    "print(classification_report(list(df_test_complete.drop_duplicates(subset=\"message\").type_especific), complete_prediction))\n",
    "print(f\"Exactitud: {accuracy_score(list(df_test_complete.drop_duplicates(subset=\"message\").type_especific), complete_prediction)}\")"
   ]
  },
  {
   "cell_type": "code",
   "execution_count": 64,
   "id": "4d9bbb34-4421-4f47-8949-f1d11300d449",
   "metadata": {},
   "outputs": [
    {
     "name": "stdout",
     "output_type": "stream",
     "text": [
      "Matriz de confusión:\n",
      "[[ 0  0  0  0  0  0  0  0  0  0  0]\n",
      " [ 1  4  1  0  0  0  1  0  1  0  0]\n",
      " [ 0  0  2  1  0  0  1  0  1  0  0]\n",
      " [ 1  3  0  6  1  0  4  0  0  0  5]\n",
      " [ 1  0  0  0  4  2  3  2  1  1  2]\n",
      " [ 0  1  0  0  2  1  0  0  0  0  1]\n",
      " [ 0  3  1  3  0  0  4  1  0  1  7]\n",
      " [ 0  1  0  0  1  0  0  0  0  0  0]\n",
      " [ 0  0  0  0  0  0  1  1  2  0  4]\n",
      " [ 0  0  0  0  0  0  1  0  0  1  1]\n",
      " [ 0  2  1  1  1  0  2  0  0  0 10]]\n"
     ]
    },
    {
     "data": {
      "text/plain": [
       "Text(0.5, 1.0, 'Matriz de Confusión')"
      ]
     },
     "execution_count": 64,
     "metadata": {},
     "output_type": "execute_result"
    },
    {
     "data": {
      "image/png": "[encoded data removed]",
      "text/plain": [
       "<Figure size 600x400 with 1 Axes>"
      ]
     },
     "metadata": {},
     "output_type": "display_data"
    }
   ],
   "source": [
    "from sklearn.metrics import confusion_matrix\n",
    "\n",
    "# Calcular la matriz de confusión\n",
    "confusion = confusion_matrix(list(df_test_complete.drop_duplicates(subset=\"message\").type_especific), complete_prediction)\n",
    "\n",
    "# Imprimir la matriz\n",
    "print(\"Matriz de confusión:\")\n",
    "print(confusion)\n",
    "\n",
    "import seaborn as sns\n",
    "import matplotlib.pyplot as plt\n",
    "\n",
    "# Matriz de confusión (confusion) calculada\n",
    "\n",
    "# Crear el heatmap\n",
    "plt.figure(figsize=(6, 4))\n",
    "axs = sns.heatmap(confusion, annot=True, fmt=\"d\", cmap=\"Blues\", cbar=False)\n",
    "#axs.set_xticklabels(['association', 'cause', 'diagnosis', 'indication', 'information', 'organization', 'other', 'prognosis', 'susceptibility', 'symptom', 'treatment'])\n",
    "#axs.set_yticklabels(['association', 'cause', 'diagnosis', 'indication', 'information', 'organization', 'other', 'prognosis', 'susceptibility', 'symptom', 'treatment'])\n",
    "plt.xlabel(\"Predicciones\")\n",
    "plt.ylabel(\"Valores reales\")\n",
    "plt.title(\"Matriz de Confusión\")"
   ]
  },
  {
   "cell_type": "code",
   "execution_count": null,
   "id": "71135d89-b588-42d7-882a-82b46645140c",
   "metadata": {},
   "outputs": [],
   "source": []
  }
 ],
 "metadata": {
  "kernelspec": {
   "display_name": "Python 3 (ipykernel)",
   "language": "python",
   "name": "python3"
  },
  "language_info": {
   "codemirror_mode": {
    "name": "ipython",
    "version": 3
   },
   "file_extension": ".py",
   "mimetype": "text/x-python",
   "name": "python",
   "nbconvert_exporter": "python",
   "pygments_lexer": "ipython3",
   "version": "3.12.4"
  }
 },
 "nbformat": 4,
 "nbformat_minor": 5
}
